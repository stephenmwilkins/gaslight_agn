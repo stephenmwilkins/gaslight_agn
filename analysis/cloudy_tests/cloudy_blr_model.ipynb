{
 "cells": [
  {
   "attachments": {},
   "cell_type": "markdown",
   "metadata": {},
   "source": [
    "## Cloudy BLR model notes\n",
    "\n",
    "table power law \\\n",
    "phi(H) 18.5 \\\n",
    "hden 10 \\\n",
    "stop column density 22 \\\n",
    "iterate to convergence \\\n",
    "print last iteration"
   ]
  },
  {
   "attachments": {},
   "cell_type": "markdown",
   "metadata": {},
   "source": [
    "Translate phi(H) to ionisation parameter"
   ]
  },
  {
   "cell_type": "code",
   "execution_count": 6,
   "metadata": {},
   "outputs": [],
   "source": [
    "from unyt import cm, s, c\n",
    "import numpy as np"
   ]
  },
  {
   "cell_type": "code",
   "execution_count": 7,
   "metadata": {},
   "outputs": [
    {
     "name": "stdout",
     "output_type": "stream",
     "text": [
      "0.01054822286479395 dimensionless\n",
      "-1.9768207029279274\n"
     ]
    }
   ],
   "source": [
    "phi = 10**18.5 / cm**2 / s\n",
    "hden = 10**10 / cm**3\n",
    "\n",
    "\n",
    "U = phi / (c * hden)\n",
    "\n",
    "print(U)\n",
    "\n",
    "\n",
    "print(np.log10(U))\n",
    "\n"
   ]
  }
 ],
 "metadata": {
  "kernelspec": {
   "display_name": "venv",
   "language": "python",
   "name": "python3"
  },
  "language_info": {
   "codemirror_mode": {
    "name": "ipython",
    "version": 3
   },
   "file_extension": ".py",
   "mimetype": "text/x-python",
   "name": "python",
   "nbconvert_exporter": "python",
   "pygments_lexer": "ipython3",
   "version": "3.10.11"
  },
  "orig_nbformat": 4,
  "vscode": {
   "interpreter": {
    "hash": "7c5bcdb6b434f1b76397405a2853493c516cedf626715680602bf851257d481c"
   }
  }
 },
 "nbformat": 4,
 "nbformat_minor": 2
}
